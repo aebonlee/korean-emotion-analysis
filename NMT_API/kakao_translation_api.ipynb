{
  "nbformat": 4,
  "nbformat_minor": 0,
  "metadata": {
    "colab": {
      "name": "Kakao_translation_API.ipynb",
      "provenance": [],
      "collapsed_sections": []
    },
    "kernelspec": {
      "name": "python3",
      "display_name": "Python 3"
    }
  },
  "cells": [
    {
      "cell_type": "markdown",
      "metadata": {
        "id": "B1Rkiz11hm_l",
        "colab_type": "text"
      },
      "source": [
        "# 카카오 번역 API"
      ]
    },
    {
      "cell_type": "code",
      "metadata": {
        "id": "slelubyxXXRA",
        "colab_type": "code",
        "colab": {}
      },
      "source": [
        "import re\n",
        "import datetime\n",
        "import requests \n",
        "from urllib.parse import urlparse\n",
        "import json"
      ],
      "execution_count": 0,
      "outputs": []
    },
    {
      "cell_type": "code",
      "metadata": {
        "id": "W0lysXp7rsjQ",
        "colab_type": "code",
        "colab": {}
      },
      "source": [
        "file = open( '/content/drive/My Drive/movie_data_test.txt',\"r\")\n",
        "data_1 = file.readlines()\n",
        "data_train = []\n",
        "for i in data_1:\n",
        "  data_train.append(i[:-1]) #문장 뒤 \\n 제거\n"
      ],
      "execution_count": 0,
      "outputs": []
    },
    {
      "cell_type": "code",
      "metadata": {
        "id": "cSrfgWwYjnZD",
        "colab_type": "code",
        "colab": {}
      },
      "source": [
        "# json 파일 가져오는 함수\n",
        "def json_request(URL='', encoding='utf-8', success=None, error=lambda e: print('%s : %s' % (e, datetime.now()), file=sys.stderr)):\n",
        "    headers = {'Authorization': 'KakaoAK {}'.format(APP_KEY)}\n",
        "    paras = {'query':query, 'target_lang':'en', 'src_lang':'kr'}\n",
        "    resp = requests.get(URL, headers=headers, params = paras)\n",
        "    return resp.text\n"
      ],
      "execution_count": 0,
      "outputs": []
    },
    {
      "cell_type": "code",
      "metadata": {
        "id": "fr94X4IW7UrK",
        "colab_type": "code",
        "colab": {}
      },
      "source": [
        "# 변수 사전 정의\n",
        "URL = 'https://kapi.kakao.com/v1/translation/translate'\n",
        "APP_KEY = '9e28d45c8e599cb0bdca22d0a91d994e'\n",
        "\n",
        "for j in range(len(data_train)) :\n",
        "  query = data_train[j]\n",
        "  headers = {'Authorization': 'KakaoAK {}'.format(APP_KEY)}\n",
        "  paras = {\"query\":query, \"target_lang\":\"en\", \"src_lang\":\"kr\"}\n",
        "  \n",
        "  r = requests.get(URL, headers=headers, params = paras )\n",
        "  json_data = json.loads(r.text)\n",
        "  json_doc = json_data.get('translated_text')\n",
        "  print(json_doc)\n"
      ],
      "execution_count": 0,
      "outputs": []
    },
    {
      "cell_type": "code",
      "metadata": {
        "id": "xtS23TUbyBZg",
        "colab_type": "code",
        "colab": {}
      },
      "source": [
        "# 최종 파일 저장\n",
        "with open('movie_data_train_trans_kakao.txt', 'w') as file:\n",
        "    for lines in list:\n",
        "      file.writelines(lines + '\\n')"
      ],
      "execution_count": 0,
      "outputs": []
    },
    {
      "cell_type": "markdown",
      "metadata": {
        "id": "Z06GtJyR7BVH",
        "colab_type": "text"
      },
      "source": [
        "# Test Code"
      ]
    },
    {
      "cell_type": "code",
      "metadata": {
        "id": "zLRd-1HL0W3b",
        "colab_type": "code",
        "colab": {}
      },
      "source": [
        "URL = 'https://kapi.kakao.com/v1/translation/translate'\n",
        "APP_KEY = '9e28d45c8e599cb0bdca22d0a91d994e'\n",
        "paras = {\"query\":'안녕하세요', \"target_lang\":\"en\", \"src_lang\":\"kr\"}\n",
        "headers = {'Authorization': 'KakaoAK {}'.format(APP_KEY)}\n",
        "\n",
        "r = requests.get(url = URL, headers=headers, params = paras )\n",
        "print(json.loads(r.text))"
      ],
      "execution_count": 0,
      "outputs": []
    }
  ]
}
