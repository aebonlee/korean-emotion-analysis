{
  "nbformat": 4,
  "nbformat_minor": 0,
  "metadata": {
    "colab": {
      "name": "googletrans_API.ipynb",
      "provenance": [],
      "collapsed_sections": [],
      "machine_shape": "hm"
    },
    "kernelspec": {
      "name": "python3",
      "display_name": "Python 3"
    },
    "accelerator": "GPU"
  },
  "cells": [
    {
      "cell_type": "markdown",
      "metadata": {
        "id": "2PkrLmqD1Ls4",
        "colab_type": "text"
      },
      "source": [
        "# googletrans API"
      ]
    },
    {
      "cell_type": "code",
      "metadata": {
        "id": "7vrbmG24mEvq",
        "colab_type": "code",
        "colab": {}
      },
      "source": [
        "!pip install googletrans"
      ],
      "execution_count": 0,
      "outputs": []
    },
    {
      "cell_type": "code",
      "metadata": {
        "id": "fhJFnDwj_J47",
        "colab_type": "code",
        "colab": {}
      },
      "source": [
        "file = open('/content/drive/My Drive/movie_data_train.txt',\"r\")\n",
        "data_1 = file.readlines()\n",
        "data_train = []\n",
        "for i in data_1:\n",
        "  data_train.append(i[:-1])\n",
        "\n",
        "data_train"
      ],
      "execution_count": 0,
      "outputs": []
    },
    {
      "cell_type": "code",
      "metadata": {
        "id": "p1WUEzCOo82J",
        "colab_type": "code",
        "colab": {}
      },
      "source": [
        "from googletrans import Translator\n",
        "\n",
        "for i in range(len(data_train)):\n",
        "  string = data_train[i]\n",
        "  translator = Translator(proxies=None, timeout=None)\n",
        "  result = translator.translate(string, dest=\"en\")\n",
        "  print(result.text)\n",
        "\n"
      ],
      "execution_count": 0,
      "outputs": []
    },
    {
      "cell_type": "markdown",
      "metadata": {
        "id": "9Qw6BI2d-PDe",
        "colab_type": "text"
      },
      "source": [
        "# Test Code"
      ]
    },
    {
      "cell_type": "code",
      "metadata": {
        "id": "tUb6CNKSphbX",
        "colab_type": "code",
        "colab": {}
      },
      "source": [
        "from googletrans import Translator\n",
        "\n",
        "translator = Translator()\n",
        "result = translator.translate('안녕하세요.', dest=\"en\")\n",
        "print(result.text)"
      ],
      "execution_count": 0,
      "outputs": []
    }
  ]
}
